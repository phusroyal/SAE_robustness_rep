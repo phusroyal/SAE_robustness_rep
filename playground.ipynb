{
 "cells": [
  {
   "cell_type": "code",
   "execution_count": 1,
   "id": "83addd4a",
   "metadata": {},
   "outputs": [],
   "source": [
    "import os \n",
    "os.environ[\"https_proxy\"] = \"http://xen03.iitd.ac.in:3128\"\n",
    "os.environ[\"http_proxy\"] = \"http://xen03.iitd.ac.in:3128\""
   ]
  },
  {
   "cell_type": "code",
   "execution_count": 2,
   "id": "31993009",
   "metadata": {},
   "outputs": [
    {
     "name": "stdout",
     "output_type": "stream",
     "text": [
      "Internet connection is working.\n"
     ]
    }
   ],
   "source": [
    "# ping to google\n",
    "import requests\n",
    "try:\n",
    "    response = requests.get(\"https://www.google.com\", timeout=5)\n",
    "    if response.status_code == 200:\n",
    "        print(\"Internet connection is working.\")\n",
    "    else:\n",
    "        print(\"Failed to connect to the internet.\")\n",
    "except requests.ConnectionError:\n",
    "    print(\"No internet connection available.\")"
   ]
  },
  {
   "cell_type": "code",
   "execution_count": 3,
   "id": "d5956ded",
   "metadata": {},
   "outputs": [],
   "source": [
    "import sys\n",
    "# sys.path.append('../sae')\n",
    "from sae import Sae\n",
    "from utils import load_model_and_sae, extract_sae_features\n",
    "from transformers import AutoModelForCausalLM, AutoTokenizer, LlamaForCausalLM\n",
    "import torch\n",
    "import torch.nn.functional as F\n",
    "import os\n",
    "import pandas as pd\n",
    "import numpy as np\n",
    "import time"
   ]
  },
  {
   "cell_type": "code",
   "execution_count": 4,
   "id": "81a5004c",
   "metadata": {},
   "outputs": [
    {
     "data": {
      "application/vnd.jupyter.widget-view+json": {
       "model_id": "74ff7dcab7fe4e79ad2e8714a08410c8",
       "version_major": 2,
       "version_minor": 0
      },
      "text/plain": [
       "Loading checkpoint shards:   0%|          | 0/3 [00:00<?, ?it/s]"
      ]
     },
     "metadata": {},
     "output_type": "display_data"
    }
   ],
   "source": [
    "# import model\n",
    "model_type = 'gemma2-2b'\n",
    "layer_num = 20\n",
    "device = 'cpu'\n",
    "model, tokenizer, sae = load_model_and_sae(model_type, layer_num, device)"
   ]
  },
  {
   "cell_type": "code",
   "execution_count": 5,
   "id": "5cdc6661",
   "metadata": {},
   "outputs": [],
   "source": [
    "x1_raw_text = 'The film explores love and trauma through non-linear storytelling, blending magical realism with emotionally raw performances'\n",
    "x1_raw = tokenizer(x1_raw_text, return_tensors=\"pt\")['input_ids'].to(device)\n",
    "x1_raw_preprocessed = tokenizer(x1_raw_text + \"\\nThe previous text is about\", \n",
    "                                return_tensors=\"pt\")['input_ids'].to(device)\n",
    "h1_raw = model(x1_raw_preprocessed, output_hidden_states=True).hidden_states[layer_num + 1][0][-1].detach()"
   ]
  },
  {
   "cell_type": "code",
   "execution_count": 7,
   "metadata": {},
   "outputs": [],
   "source": [
    "x2_raw_text = \"The film explores love and trauma through non-linear storytelling, blending magical realism with emotionally raw performancesHacker Encryption implementations\"\n",
    "x2_raw = tokenizer(x2_raw_text, return_tensors=\"pt\")['input_ids'].to(device)\n",
    "x2_raw_preprocessed = tokenizer(x2_raw_text + \"\\nThe previous text is about\", \n",
    "                                return_tensors=\"pt\")['input_ids'].to(device)\n",
    "h2_raw = model(x2_raw_preprocessed, output_hidden_states=True).hidden_states[layer_num + 1][0][-1].detach()"
   ]
  },
  {
   "cell_type": "code",
   "execution_count": 8,
   "id": "2f466a92",
   "metadata": {},
   "outputs": [],
   "source": [
    "# save h1_raw and h2_raw for later use\n",
    "torch.save(h1_raw, 'temp/h1_raw.pt')\n",
    "torch.save(h2_raw, 'temp/h2_raw.pt')"
   ]
  },
  {
   "cell_type": "code",
   "execution_count": null,
   "id": "7ab91997",
   "metadata": {},
   "outputs": [],
   "source": []
  },
  {
   "cell_type": "code",
   "execution_count": null,
   "id": "37194ac9",
   "metadata": {},
   "outputs": [],
   "source": []
  },
  {
   "cell_type": "code",
   "execution_count": null,
   "id": "90e940eb",
   "metadata": {},
   "outputs": [],
   "source": []
  },
  {
   "cell_type": "code",
   "execution_count": null,
   "metadata": {},
   "outputs": [],
   "source": []
  },
  {
   "cell_type": "code",
   "execution_count": null,
   "id": "7b34cef0",
   "metadata": {},
   "outputs": [],
   "source": []
  },
  {
   "cell_type": "code",
   "execution_count": null,
   "id": "278c3aa6",
   "metadata": {},
   "outputs": [],
   "source": []
  },
  {
   "cell_type": "code",
   "execution_count": null,
   "id": "c735c3de",
   "metadata": {},
   "outputs": [],
   "source": []
  }
 ],
 "metadata": {
  "kernelspec": {
   "display_name": "sae_clean",
   "language": "python",
   "name": "python3"
  },
  "language_info": {
   "codemirror_mode": {
    "name": "ipython",
    "version": 3
   },
   "file_extension": ".py",
   "mimetype": "text/x-python",
   "name": "python",
   "nbconvert_exporter": "python",
   "pygments_lexer": "ipython3",
   "version": "3.10.18"
  }
 },
 "nbformat": 4,
 "nbformat_minor": 5
}
